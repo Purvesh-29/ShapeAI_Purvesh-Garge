{
  "nbformat": 4,
  "nbformat_minor": 0,
  "metadata": {
    "colab": {
      "name": "Purvesh Garge.ipynb",
      "provenance": []
    },
    "kernelspec": {
      "name": "python3",
      "display_name": "Python 3"
    },
    "language_info": {
      "name": "python"
    }
  },
  "cells": [
    {
      "cell_type": "code",
      "metadata": {
        "colab": {
          "base_uri": "https://localhost:8080/"
        },
        "id": "E37v8VhSNHqL",
        "outputId": "87f95e64-101f-497a-9b15-1f9b191f4e10"
      },
      "source": [
        "from keras.datasets import mnist\n",
        "data = mnist.load_data()"
      ],
      "execution_count": 1,
      "outputs": [
        {
          "output_type": "stream",
          "text": [
            "Downloading data from https://storage.googleapis.com/tensorflow/tf-keras-datasets/mnist.npz\n",
            "11493376/11490434 [==============================] - 0s 0us/step\n"
          ],
          "name": "stdout"
        }
      ]
    },
    {
      "cell_type": "code",
      "metadata": {
        "id": "yE62ulKvNRuA"
      },
      "source": [
        "((X_train, y_train), (X_test, y_test)) = data"
      ],
      "execution_count": 6,
      "outputs": []
    },
    {
      "cell_type": "code",
      "metadata": {
        "id": "1YI21hdoNgDG"
      },
      "source": [
        "X_train = X_train.reshape((X_train.shape[0], 28*28)).astype('float32')\n",
        "X_test = X_test.reshape((X_test.shape[0], 28*28)).astype('float32')"
      ],
      "execution_count": 7,
      "outputs": []
    },
    {
      "cell_type": "code",
      "metadata": {
        "id": "X5CaK5KdOGcm"
      },
      "source": [
        "X_train = X_train / 255\n",
        "X_test = X_test / 255"
      ],
      "execution_count": 8,
      "outputs": []
    },
    {
      "cell_type": "code",
      "metadata": {
        "colab": {
          "base_uri": "https://localhost:8080/"
        },
        "id": "5NvhpiWnPK9I",
        "outputId": "d5dea66d-102c-4d46-9485-089a95371c33"
      },
      "source": [
        "from keras.utils import np_utils\n",
        "\n",
        "print(y_test.shape)\n",
        "\n",
        "y_train = np_utils.to_categorical(y_train)\n",
        "y_test = np_utils.to_categorical(y_test)\n",
        "\n",
        "num_classes = y_test.shape[1]\n",
        "print(y_test.shape)\n"
      ],
      "execution_count": 12,
      "outputs": [
        {
          "output_type": "stream",
          "text": [
            "(10000,)\n",
            "(10000, 10)\n"
          ],
          "name": "stdout"
        }
      ]
    },
    {
      "cell_type": "code",
      "metadata": {
        "id": "X06x-gdoPo4p"
      },
      "source": [
        "from keras.models import Sequential\n",
        "from keras.layers import Dense"
      ],
      "execution_count": 13,
      "outputs": []
    },
    {
      "cell_type": "code",
      "metadata": {
        "id": "wfSCTLMiRCqN"
      },
      "source": [
        "model = Sequential()\n",
        "model.add(Dense(32, input_dim = 28*28, activation=\"relu\"))\n",
        "model.add(Dense(64, activation='relu'))\n",
        "model.add(Dense(10, activation='softmax'))"
      ],
      "execution_count": 15,
      "outputs": []
    },
    {
      "cell_type": "code",
      "metadata": {
        "id": "Kjtbgym9Rr7d"
      },
      "source": [
        "model.compile(loss = 'categorical_crossentropy', optimizer='adam', metrics=['accuracy'])"
      ],
      "execution_count": 16,
      "outputs": []
    },
    {
      "cell_type": "code",
      "metadata": {
        "colab": {
          "base_uri": "https://localhost:8080/"
        },
        "id": "wsLdeK6JSJZN",
        "outputId": "f4e2b06c-c0dc-48b9-df8a-b6767ea7c167"
      },
      "source": [
        "model.summary()"
      ],
      "execution_count": 17,
      "outputs": [
        {
          "output_type": "stream",
          "text": [
            "Model: \"sequential_1\"\n",
            "_________________________________________________________________\n",
            "Layer (type)                 Output Shape              Param #   \n",
            "=================================================================\n",
            "dense (Dense)                (None, 32)                25120     \n",
            "_________________________________________________________________\n",
            "dense_1 (Dense)              (None, 64)                2112      \n",
            "_________________________________________________________________\n",
            "dense_2 (Dense)              (None, 10)                650       \n",
            "=================================================================\n",
            "Total params: 27,882\n",
            "Trainable params: 27,882\n",
            "Non-trainable params: 0\n",
            "_________________________________________________________________\n"
          ],
          "name": "stdout"
        }
      ]
    },
    {
      "cell_type": "code",
      "metadata": {
        "colab": {
          "base_uri": "https://localhost:8080/"
        },
        "id": "mcFIO6T6SSP2",
        "outputId": "629d3062-b455-4d85-f45d-e0925f3214b3"
      },
      "source": [
        "model.fit(X_train, y_train, epochs= 20, batch_size= 100)"
      ],
      "execution_count": 21,
      "outputs": [
        {
          "output_type": "stream",
          "text": [
            "Epoch 1/20\n",
            "600/600 [==============================] - 2s 3ms/step - loss: 5.2479e-04 - accuracy: 0.9999\n",
            "Epoch 2/20\n",
            "600/600 [==============================] - 2s 3ms/step - loss: 4.4713e-04 - accuracy: 0.9999\n",
            "Epoch 3/20\n",
            "600/600 [==============================] - 2s 3ms/step - loss: 2.4987e-04 - accuracy: 1.0000\n",
            "Epoch 4/20\n",
            "600/600 [==============================] - 2s 3ms/step - loss: 0.0216 - accuracy: 0.9937\n",
            "Epoch 5/20\n",
            "600/600 [==============================] - 2s 3ms/step - loss: 0.0054 - accuracy: 0.9982\n",
            "Epoch 6/20\n",
            "600/600 [==============================] - 2s 3ms/step - loss: 0.0013 - accuracy: 0.9997\n",
            "Epoch 7/20\n",
            "600/600 [==============================] - 2s 3ms/step - loss: 3.8090e-04 - accuracy: 1.0000\n",
            "Epoch 8/20\n",
            "600/600 [==============================] - 2s 3ms/step - loss: 2.3900e-04 - accuracy: 1.0000\n",
            "Epoch 9/20\n",
            "600/600 [==============================] - 2s 3ms/step - loss: 0.0169 - accuracy: 0.9948\n",
            "Epoch 10/20\n",
            "600/600 [==============================] - 2s 3ms/step - loss: 0.0062 - accuracy: 0.9978\n",
            "Epoch 11/20\n",
            "600/600 [==============================] - 2s 3ms/step - loss: 0.0031 - accuracy: 0.9989\n",
            "Epoch 12/20\n",
            "600/600 [==============================] - 2s 3ms/step - loss: 0.0075 - accuracy: 0.9976\n",
            "Epoch 13/20\n",
            "600/600 [==============================] - 2s 3ms/step - loss: 0.0025 - accuracy: 0.9992\n",
            "Epoch 14/20\n",
            "600/600 [==============================] - 2s 3ms/step - loss: 2.9414e-04 - accuracy: 1.0000\n",
            "Epoch 15/20\n",
            "600/600 [==============================] - 2s 3ms/step - loss: 0.0014 - accuracy: 0.9996\n",
            "Epoch 16/20\n",
            "600/600 [==============================] - 2s 3ms/step - loss: 0.0143 - accuracy: 0.9957\n",
            "Epoch 17/20\n",
            "600/600 [==============================] - 2s 3ms/step - loss: 0.0059 - accuracy: 0.9980\n",
            "Epoch 18/20\n",
            "600/600 [==============================] - 2s 3ms/step - loss: 0.0061 - accuracy: 0.9979\n",
            "Epoch 19/20\n",
            "600/600 [==============================] - 2s 3ms/step - loss: 0.0025 - accuracy: 0.9992\n",
            "Epoch 20/20\n",
            "600/600 [==============================] - 2s 3ms/step - loss: 0.0016 - accuracy: 0.9995\n"
          ],
          "name": "stdout"
        },
        {
          "output_type": "execute_result",
          "data": {
            "text/plain": [
              "<tensorflow.python.keras.callbacks.History at 0x7fbafdad9ed0>"
            ]
          },
          "metadata": {
            "tags": []
          },
          "execution_count": 21
        }
      ]
    },
    {
      "cell_type": "code",
      "metadata": {
        "colab": {
          "base_uri": "https://localhost:8080/"
        },
        "id": "xeIscgN_SkI3",
        "outputId": "2c503b76-3d27-43e7-bd42-24ae8776908c"
      },
      "source": [
        "scores = model.evaluate(X_test, y_test)\n",
        "print(scores)"
      ],
      "execution_count": 22,
      "outputs": [
        {
          "output_type": "stream",
          "text": [
            "313/313 [==============================] - 1s 1ms/step - loss: 0.2443 - accuracy: 0.9733\n",
            "[0.24426846206188202, 0.9732999801635742]\n"
          ],
          "name": "stdout"
        }
      ]
    },
    {
      "cell_type": "code",
      "metadata": {
        "id": "SoeFVTebTs1w"
      },
      "source": [
        ""
      ],
      "execution_count": null,
      "outputs": []
    }
  ]
}